{
 "cells": [
  {
   "cell_type": "markdown",
   "id": "381f12bf",
   "metadata": {},
   "source": [
    "#                 <center>Project Report - FCP\n",
    "\n",
    "<center><ins>Group Members:</ins> Max Chesters - Ed Atkinson - Ed Loughrey - Mehdi Amara"
   ]
  },
  {
   "cell_type": "markdown",
   "id": "03ac46aa",
   "metadata": {},
   "source": [
    "\n",
    "\n",
    "## <ins>Project Overview:<ins>\n",
    "The point of our project was to design code that would allow us to run simulations relating to Covid-19 and provide animations describing the evolution of the epidemic. The first step of our project was to design an SIRD model that features the distribution of Susceptible, Infected, Recovered, and Dead people among a given population with various factors.\n",
    "    "
   ]
  },
  {
   "cell_type": "markdown",
   "id": "6cf87294",
   "metadata": {},
   "source": [
    "## <ins>The main simulation:<ins>"
   ]
  },
  {
   "cell_type": "markdown",
   "id": "01f30630",
   "metadata": {},
   "source": [
    "d <br>\n",
    "    d <br>\n",
    "    d <br>\n",
    "    d<br>\n",
    "    d<br>\n",
    "    d<br>"
   ]
  },
  {
   "cell_type": "code",
   "execution_count": null,
   "id": "120404a6",
   "metadata": {},
   "outputs": [],
   "source": []
  }
 ],
 "metadata": {
  "kernelspec": {
   "display_name": "Python 3",
   "language": "python",
   "name": "python3"
  },
  "language_info": {
   "codemirror_mode": {
    "name": "ipython",
    "version": 3
   },
   "file_extension": ".py",
   "mimetype": "text/x-python",
   "name": "python",
   "nbconvert_exporter": "python",
   "pygments_lexer": "ipython3",
   "version": "3.8.8"
  }
 },
 "nbformat": 4,
 "nbformat_minor": 5
}
