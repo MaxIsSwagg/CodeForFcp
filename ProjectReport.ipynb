{
 "cells": [
  {
   "cell_type": "markdown",
   "id": "381f12bf",
   "metadata": {},
   "source": [
    "#                 <center>Project Report - FCP<center>\n",
    "\n",
    "<center><ins>Group Members:</ins> Ed Atkinson - Mehdi Amara - Max Chesters - Ed Loughrey"
   ]
  },
  {
   "cell_type": "markdown",
   "id": "03ac46aa",
   "metadata": {},
   "source": [
    "\n",
    "\n",
    "# Table of contents\n",
    "1. [Project Overview](#introduction)\n",
    "2. [Our SIR and SIRD model](#paragraph1)\n",
    "    1. [SIR model](#subparagraph1)\n",
    "    2. [SIRD model](#subparagraph2)\n",
    "3. [Simulation](#paragraph2)\n",
    "4. [References](#paragraph3)\n",
    "\n",
    "## <center>Project Overview <a name=\"introduction\"></a>\n",
    "The point of our project was to write code that would allow us to run simulations relating to Covid-19 and provide animations describing the evolution of the epidemic. In that regard, the first step we took was designing an SIRD model that features the distribution of Susceptible, Infected, Recovered, and Dead people among a given population with various factors in play. When that was done, we focused our attention towards the actual simulation using an explicit RGB matrix that highlights the spread of a virus; while still holding on to the progress we made at creating SIRD models and animating them. <br>\n",
    "\n",
    "## <center>Our SIR and SIRD models <a name=\"paragraph1\"></a>\n",
    "For both our SIR and SIRD models, we used    \n",
    "    \n",
    "### SIR model <a name=\"subparagraph1\"></a>\n",
    "\n",
    "\n",
    "\n",
    "    "
   ]
  },
  {
   "cell_type": "markdown",
   "id": "aee65f22",
   "metadata": {},
   "source": [
    "This piece of code, along with the animation we added, produces the following graph:"
   ]
  },
  {
   "cell_type": "markdown",
   "id": "2803641e",
   "metadata": {},
   "source": [
    "<video controls src=\"animationSIR.mp4\" width=\"500\" height=\"340\"/>"
   ]
  },
  {
   "cell_type": "markdown",
   "id": "6cf87294",
   "metadata": {},
   "source": [
    "### SIRD model <a name=\"subparagraph2\"></a>\n",
    "When going from an SIR to an SIRD model, we chose to implement user given inputs istead of set inputs for the necessary data. The code functions very similarly to the previous one, with the added benefit of having the death factor. It ends up looking like this:"
   ]
  },
  {
   "cell_type": "markdown",
   "id": "01f30630",
   "metadata": {},
   "source": [
    "<video controls src=\"animationSIRD.mp4\" width=\"500\" height=\"340\"/>"
   ]
  },
  {
   "cell_type": "markdown",
   "id": "6df28f31",
   "metadata": {},
   "source": [
    "## <center>Simulation <a name=\"paragraph2\"></a>\n",
    "Our simulation\n",
    "\n",
    "## <center>References <a name=\"paragraph3\"></a>\n",
    "Our references"
   ]
  }
 ],
 "metadata": {
  "kernelspec": {
   "display_name": "Python 3",
   "language": "python",
   "name": "python3"
  },
  "language_info": {
   "codemirror_mode": {
    "name": "ipython",
    "version": 3
   },
   "file_extension": ".py",
   "mimetype": "text/x-python",
   "name": "python",
   "nbconvert_exporter": "python",
   "pygments_lexer": "ipython3",
   "version": "3.8.8"
  }
 },
 "nbformat": 4,
 "nbformat_minor": 5
}
