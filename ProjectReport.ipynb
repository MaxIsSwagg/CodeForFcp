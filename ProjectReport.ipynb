{
 "cells": [
  {
   "cell_type": "markdown",
   "id": "381f12bf",
   "metadata": {},
   "source": [
    "#                 <center>Project Report - FCP<center>\n",
    "\n",
    "<center><ins>Group Members:</ins> Ed Atkinson - Mehdi Amara - Max Chesters - Ed Loughrey"
   ]
  },
  {
   "cell_type": "markdown",
   "id": "03ac46aa",
   "metadata": {},
   "source": [
    "\n",
    "\n",
    "## <ins>Project Overview:<ins>\n",
    "The point of our project was to write code that would allow us to run simulations relating to Covid-19 and provide animations describing the evolution of the epidemic. In that regard, the first step we took was designing an SIRD model that features the distribution of Susceptible, Infected, Recovered, and Dead people among a given population with various factors in play. When that was done, we focused our attention towards the actual simulation using an explicit RGB matrix that highlights the spread of a virus. While still holding on to the progress we made at creating SIRD models and animating them. From this point on\n",
    "    "
   ]
  },
  {
   "cell_type": "markdown",
   "id": "6cf87294",
   "metadata": {},
   "source": [
    "### <ins>The main simulation:<ins>"
   ]
  },
  {
   "cell_type": "markdown",
   "id": "01f30630",
   "metadata": {},
   "source": [
    "d <br>\n",
    "    d <br>\n",
    "    d <br>\n",
    "    d<br>\n",
    "    d<br>\n",
    "    d<br>"
   ]
  },
  {
   "cell_type": "code",
   "execution_count": null,
   "id": "120404a6",
   "metadata": {},
   "outputs": [],
   "source": []
  }
 ],
 "metadata": {
  "kernelspec": {
   "display_name": "Python 3",
   "language": "python",
   "name": "python3"
  },
  "language_info": {
   "codemirror_mode": {
    "name": "ipython",
    "version": 3
   },
   "file_extension": ".py",
   "mimetype": "text/x-python",
   "name": "python",
   "nbconvert_exporter": "python",
   "pygments_lexer": "ipython3",
   "version": "3.8.8"
  }
 },
 "nbformat": 4,
 "nbformat_minor": 5
}
